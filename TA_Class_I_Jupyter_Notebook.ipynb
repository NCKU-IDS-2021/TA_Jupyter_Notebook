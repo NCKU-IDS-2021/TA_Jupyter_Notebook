{
 "cells": [
  {
   "cell_type": "markdown",
   "metadata": {},
   "source": [
    "# TA Class I"
   ]
  },
  {
   "cell_type": "code",
   "execution_count": 99,
   "metadata": {},
   "outputs": [
    {
     "name": "stdout",
     "output_type": "stream",
     "text": [
      "The Zen of Python, by Tim Peters\n",
      "\n",
      "Beautiful is better than ugly.\n",
      "Explicit is better than implicit.\n",
      "Simple is better than complex.\n",
      "Complex is better than complicated.\n",
      "Flat is better than nested.\n",
      "Sparse is better than dense.\n",
      "Readability counts.\n",
      "Special cases aren't special enough to break the rules.\n",
      "Although practicality beats purity.\n",
      "Errors should never pass silently.\n",
      "Unless explicitly silenced.\n",
      "In the face of ambiguity, refuse the temptation to guess.\n",
      "There should be one-- and preferably only one --obvious way to do it.\n",
      "Although that way may not be obvious at first unless you're Dutch.\n",
      "Now is better than never.\n",
      "Although never is often better than *right* now.\n",
      "If the implementation is hard to explain, it's a bad idea.\n",
      "If the implementation is easy to explain, it may be a good idea.\n",
      "Namespaces are one honking great idea -- let's do more of those!\n"
     ]
    }
   ],
   "source": [
    "import this"
   ]
  },
  {
   "cell_type": "markdown",
   "metadata": {},
   "source": [
    "## Jupyter Notebook & Python Quick Review"
   ]
  },
  {
   "cell_type": "markdown",
   "metadata": {},
   "source": [
    "### Errors ?"
   ]
  },
  {
   "cell_type": "markdown",
   "metadata": {},
   "source": [
    "![Image of Errors](https://i.imgur.com/9bDJwum.png)"
   ]
  },
  {
   "cell_type": "markdown",
   "metadata": {},
   "source": [
    "### Different types of variables\n",
    "\n",
    "<ul>\n",
    "    <li>Create your own structure, beware of the attributes and methods of those objects in the object.</li>\n",
    "</ul>"
   ]
  },
  {
   "cell_type": "markdown",
   "metadata": {},
   "source": [
    "### Methods of list\n",
    "###### ref : https://docs.python.org/3/tutorial/datastructures.html\n",
    "<pre>\n",
    "<ul>\n",
    "    <li>list.append(x) : Add an item to the end of the list. Equivalent to a[len(a):] = [x].</li>\n",
    "    <li>list.clear() : Remove all items from the list. Equivalent to del a[:].</li>\n",
    "    <li>list.count(x) : Return the number of times x appears in the list.</li>\n",
    "    <li>list.sort(key=None, reverse=False) : Sort the items of the list in place.</li>\n",
    "    <li>list.reverse() : Reverse the elements of the list in place.</li>\n",
    "    <li>list.copy() : Return a shallow copy of the list. Equivalent to a[:].</li>\n",
    "    <li>list.extend(iterable) : Extend the list by appending all the items from the iterable. Equivalent to a[len(a):] = iterable.</li>\n",
    "    <li>list.remove(x) : Remove the first item from the list whose value is equal to x. It raises a ValueError if there is no such item.</li>\n",
    "    <li>list.insert(i, x) : Insert an item at a given position. The first argument is the index of the element before which to insert, so a.insert(0, x) inserts at the front of the list, and a.insert(len(a), x) is equivalent to a.append(x).</li>\n",
    "    <li>list.pop([i]) : Remove the item at the given position in the list, and return it. If no index is specified, a.pop() removes and returns the last item in the list. (The square brackets around the i in the method signature denote that the parameter is optional, not that you should type square brackets at that position. You will see this notation frequently in the Python Library Reference.)</li>\n",
    "</ul>\n",
    "</pre>"
   ]
  },
  {
   "cell_type": "markdown",
   "metadata": {},
   "source": [
    "### Method of dictionary\n",
    "###### ref : https://realpython.com/python-dicts/\n",
    "<pre>\n",
    "<ul>\n",
    "    <li>d.clear() : Clears a dictionary.</li>\n",
    "    <li>d.items() : Returns a list of key-value pairs in a dictionary.</li>\n",
    "    <li>d.keys() : Returns a list of keys in a dictionary.</li>\n",
    "    <li>d.items() : Returns a list of key-value pairs in a dictionary.</li>\n",
    "    <li>d.keys() : Returns a list of keys in a dictionary.</li>\n",
    "    <li>d.values() : Returns a list of values in a dictionary.</li>\n",
    "    <li>d.popitem() : Removes the last key-value pair added from d and returns it as a tuple.</li>\n",
    "    <li>d.update(obj) : Merges a dictionary with another dictionary or with an iterable of key-value pairs.</li>\n",
    "    <li>d.get(key[, default]) : Returns the value for a key if it exists in the dictionary. If key is not found and the optional default argument is specified, that value is returned instead of None.</li>\n",
    "    <li>d.pop(key[, default]) : If key is present in d, d.pop(key) removes key and returns its associated value. d.pop(key) raises a KeyError exception if key is not in d. If key is not in d, and the optional default argument is specified, then that value is returned, and no exception is raised.</li>\n",
    "</ul>\n",
    "</pre>"
   ]
  },
  {
   "cell_type": "code",
   "execution_count": 1,
   "metadata": {},
   "outputs": [],
   "source": [
    "a_integer = 7\n",
    "a_float   = 7.0\n",
    "a_string  = 'seven'\n",
    "a_tuple   = (7,7,7)\n",
    "a_list    = [7, 7.0, 'seven', [777]]\n",
    "\n",
    "a_dict = {'a_integer':a_integer, 'a_float':a_float, 'a_string':a_string, 'a_tuple':a_tuple, 'a_list':a_list}"
   ]
  },
  {
   "cell_type": "code",
   "execution_count": 2,
   "metadata": {},
   "outputs": [],
   "source": [
    "list(iter(a_dict))"
   ]
  },
  {
   "cell_type": "code",
   "execution_count": 3,
   "metadata": {},
   "outputs": [],
   "source": [
    "len(a_dict)"
   ]
  },
  {
   "cell_type": "code",
   "execution_count": 4,
   "metadata": {},
   "outputs": [
    {
     "name": "stdout",
     "output_type": "stream",
     "text": [
      "The value of the key \" a_integer \" is 7 \n",
      "The value of the key \" a_float \" is 7.0 \n",
      "The value of the key \" a_string \" is seven \n",
      "The value of the key \" a_tuple \" is (7, 7, 7) \n",
      "The value of the key \" a_list \" is [7, 7.0, 'seven', [777]] \n"
     ]
    }
   ],
   "source": [
    "for key, value in a_dict.items():\n",
    "    print('The value of the key \\\" %s \\\" is %s ' %(key, value))"
   ]
  },
  {
   "cell_type": "markdown",
   "metadata": {},
   "source": [
    "### for / while / if else "
   ]
  },
  {
   "cell_type": "code",
   "execution_count": 5,
   "metadata": {},
   "outputs": [
    {
     "name": "stdout",
     "output_type": "stream",
     "text": [
      "Iteration 0\n",
      "Iteration 1\n",
      "Iteration 2\n"
     ]
    }
   ],
   "source": [
    "for_list = range(3)\n",
    "for i in for_list:\n",
    "    print('Iteration ' + str(i))"
   ]
  },
  {
   "cell_type": "code",
   "execution_count": 6,
   "metadata": {},
   "outputs": [
    {
     "name": "stdout",
     "output_type": "stream",
     "text": [
      "Iteration 0\n",
      "Iteration 1\n",
      "Iteration 2\n"
     ]
    }
   ],
   "source": [
    "count = 0\n",
    "while count < 3:\n",
    "    print('Iteration ' + str(count))\n",
    "    count = count + 1"
   ]
  },
  {
   "cell_type": "code",
   "execution_count": 7,
   "metadata": {
    "scrolled": true
   },
   "outputs": [
    {
     "name": "stdout",
     "output_type": "stream",
     "text": [
      "small\n",
      "small\n",
      "SUGOI DEKAI\n",
      "SUGOI DEKAI\n"
     ]
    }
   ],
   "source": [
    "if_list = [2,4,6,8]\n",
    "for i in if_list:\n",
    "    if i < 5:\n",
    "        print('small')\n",
    "    else:\n",
    "        print('SUGOI DEKAI')"
   ]
  },
  {
   "cell_type": "markdown",
   "metadata": {},
   "source": [
    "### mutable vs. immutable"
   ]
  },
  {
   "cell_type": "code",
   "execution_count": 103,
   "metadata": {},
   "outputs": [
    {
     "name": "stdout",
     "output_type": "stream",
     "text": [
      "[8, 7.0, 'seven', [777]]\n"
     ]
    }
   ],
   "source": [
    "a_list[0] = 8\n",
    "print(a_list)"
   ]
  },
  {
   "cell_type": "code",
   "execution_count": 104,
   "metadata": {},
   "outputs": [
    {
     "name": "stdout",
     "output_type": "stream",
     "text": [
      "7\n"
     ]
    }
   ],
   "source": [
    "print(a_tuple[0])"
   ]
  },
  {
   "cell_type": "markdown",
   "metadata": {},
   "source": [
    "<pre>a_tuple[0] = 8\n",
    "<span style=\"color: purple\"><b>---------------------------------------------------------------------------</b></span>\n",
    "<span style=\"color: red\">TypeError</span>                                Traceback (most recent call last)\n",
    "<ipython-input-58-1310e17f78a2> in <module>\n",
    "      1 print(a_tuple[0])\n",
    "----> 2 a_tuple[0] = 8\n",
    "\n",
    "<span style=\"color: red\">TypeError</span>: 'tuple' object does not support item assignment\n",
    "</pre>"
   ]
  },
  {
   "cell_type": "markdown",
   "metadata": {},
   "source": [
    "### Iterable "
   ]
  },
  {
   "cell_type": "markdown",
   "metadata": {},
   "source": [
    "<pre>\n",
    "<ul>\n",
    "    <li><b>Iterable</b> means an object can be iterated over.</li>\n",
    "    <li><b>Iterator</b> is an object, which is used to iterate over an iterable object using __next__() method.</li>\n",
    "    <li>Strings, lists, tuples, and dictionaries are all iterable</li>\n",
    "    <li>All these objects can use the iter() method to get an iterator</li>\n",
    "</ul>\n",
    "</pre>"
   ]
  },
  {
   "cell_type": "code",
   "execution_count": 105,
   "metadata": {
    "scrolled": true
   },
   "outputs": [
    {
     "name": "stdout",
     "output_type": "stream",
     "text": [
      "Big\n",
      "Data\n",
      "Analysis\n"
     ]
    }
   ],
   "source": [
    "mytuple = (\"Big\", \"Data\", \"Analysis\")\n",
    "myit = iter(mytuple)\n",
    "\n",
    "print(next(myit))\n",
    "print(next(myit))\n",
    "print(next(myit))"
   ]
  },
  {
   "cell_type": "code",
   "execution_count": 107,
   "metadata": {
    "scrolled": false
   },
   "outputs": [
    {
     "name": "stdout",
     "output_type": "stream",
     "text": [
      "B\n",
      "i\n",
      "g\n",
      " \n",
      "D\n",
      "a\n",
      "t\n",
      "a\n"
     ]
    }
   ],
   "source": [
    "mystr = \"Big Data Analysis\"\n",
    "myit = iter(mystr)\n",
    "\n",
    "print(next(myit))\n",
    "print(next(myit))\n",
    "print(next(myit))\n",
    "print(next(myit))\n",
    "print(next(myit))\n",
    "print(next(myit))\n",
    "print(next(myit))\n",
    "print(next(myit))"
   ]
  },
  {
   "cell_type": "code",
   "execution_count": 124,
   "metadata": {},
   "outputs": [
    {
     "name": "stdout",
     "output_type": "stream",
     "text": [
      "['a', 'a', 'a']\n"
     ]
    },
    {
     "data": {
      "text/plain": [
       "{'B': [0],\n",
       " 'i': [1, 15],\n",
       " 'g': [2],\n",
       " ' ': [3, 8],\n",
       " 'D': [4],\n",
       " 'a': [5, 7, 11],\n",
       " 't': [6],\n",
       " 'A': [9],\n",
       " 'n': [10],\n",
       " 'l': [12],\n",
       " 'y': [13],\n",
       " 's': [14, 16]}"
      ]
     },
     "execution_count": 124,
     "metadata": {},
     "output_type": "execute_result"
    }
   ],
   "source": [
    "mystr = \"Big Data Analysis\"\n",
    "find_1 = [x for x in mystr if x == 'a']    # explain this\n",
    "print(find_1)\n",
    "\n",
    "# now let's find where all the charaters are\n",
    "# you have to create a dict or list first\n",
    "# explain the follow in detailed\n",
    "find_dict = {}  \n",
    "for i in range(len(mystr)):\n",
    "    if mystr[i] not in find_dict:    # in / not in \n",
    "        find_dict[mystr[i]] = [i]\n",
    "    else:\n",
    "        find_dict[mystr[i]].append(i)\n",
    "        \n",
    "find_dict"
   ]
  },
  {
   "cell_type": "markdown",
   "metadata": {},
   "source": [
    "### Function\n",
    "\n",
    "<ul>\n",
    "    <li>Name of function</li>\n",
    "    <li>Parameter</li>\n",
    "    <li>return value</li>\n",
    "</ul>"
   ]
  },
  {
   "cell_type": "code",
   "execution_count": 108,
   "metadata": {},
   "outputs": [
    {
     "data": {
      "text/plain": [
       "[123, 271, 147, 117, 152, 218, 242, 162, 154, 295]"
      ]
     },
     "execution_count": 108,
     "metadata": {},
     "output_type": "execute_result"
    }
   ],
   "source": [
    "import random\n",
    "\n",
    "def random_list(start, end, n):\n",
    "    return list(random.randint(start, end) for _ in range(n))    # with return values\n",
    "\n",
    "random_list(100, 300, 10)"
   ]
  },
  {
   "cell_type": "code",
   "execution_count": 111,
   "metadata": {},
   "outputs": [
    {
     "data": {
      "text/plain": [
       "[64.0, 72.0, 80.0, 88.0]"
      ]
     },
     "execution_count": 111,
     "metadata": {},
     "output_type": "execute_result"
    }
   ],
   "source": [
    "weight = [80, 90, 100, 110]\n",
    "\n",
    "def lose_weight(weights):\n",
    "    for i in range(len(weights)):\n",
    "        weights[i] = weights[i] * 0.8    # without return values\n",
    "\n",
    "lose_weight(weight)\n",
    "weight"
   ]
  },
  {
   "cell_type": "markdown",
   "metadata": {},
   "source": [
    "### Class"
   ]
  },
  {
   "cell_type": "code",
   "execution_count": 9,
   "metadata": {},
   "outputs": [],
   "source": [
    "import math    # using function ceil()\n",
    "\n",
    "class Student:\n",
    "    ID = 'default'\n",
    "    name   = 'default'\n",
    "    \n",
    "    def __init__(self, ID, name):\n",
    "        self.ID = ID\n",
    "        self.name = name\n",
    "        self.points_quiz = 0\n",
    "        self.points_exam = 0\n",
    "        self.count_quiz = 0\n",
    "        self.count_exam = 0\n",
    "        \n",
    "    def quiz(self, point): \n",
    "        if point <= 0:\n",
    "            print('The points of a quiz must be positive.')\n",
    "        else: \n",
    "            self.points_quiz += point\n",
    "            self.count_quiz += 1\n",
    "            \n",
    "    def exam(self, point):\n",
    "        if point <= 0:\n",
    "            print('The points of a exam must be positive.')\n",
    "        else: \n",
    "            self.points_exam += point\n",
    "            self.count_exam += 1\n",
    "            \n",
    "    def evaluate(self, multiplier = 1):\n",
    "        mean_quiz = self.points_quiz / self.count_quiz\n",
    "        mean_exam = self.points_exam / self.count_exam\n",
    "        final = math.ceil((mean_exam*0.7 + mean_exam*0.3) * multiplier)\n",
    "        print(str(self.ID) + ' - ' + self.name + '\\'s semester grades is : ' + str(final))"
   ]
  },
  {
   "cell_type": "code",
   "execution_count": 10,
   "metadata": {},
   "outputs": [],
   "source": [
    "student_1 = Student('H55555555', 'Lee')"
   ]
  },
  {
   "cell_type": "code",
   "execution_count": 11,
   "metadata": {},
   "outputs": [
    {
     "name": "stdout",
     "output_type": "stream",
     "text": [
      "H54056164 - Lee's semester grades is : 91\n",
      "91\n"
     ]
    }
   ],
   "source": [
    "student_1.quiz(80)\n",
    "student_1.quiz(90)\n",
    "student_1.quiz(100)\n",
    "student_1.exam(85)\n",
    "student_1.exam(96)\n",
    "student_1.evaluate()\n",
    "print( math.ceil(((80+90+100)/3)*0.3 + ((85+96)/2)*0.7 ))"
   ]
  },
  {
   "cell_type": "markdown",
   "metadata": {},
   "source": [
    "### Address - Binding Names to Objects\n",
    "###### Reference : https://www.geeksforgeeks.org/is-python-call-by-reference-or-call-by-value/"
   ]
  },
  {
   "cell_type": "code",
   "execution_count": 14,
   "metadata": {},
   "outputs": [
    {
     "name": "stdout",
     "output_type": "stream",
     "text": [
      "43003160\n",
      "43003160\n",
      "True\n"
     ]
    }
   ],
   "source": [
    "a = \"first\"\n",
    "b = \"first\"\n",
    "  \n",
    "# Return the actual location  \n",
    "# where the variable is stored \n",
    "print(id(a)) \n",
    "  \n",
    "# Returns the actual location  \n",
    "# where the variable is stored \n",
    "print(id(b)) \n",
    "  \n",
    "# Returns true if both the variables \n",
    "# are stored in same location \n",
    "print(a is b)                       "
   ]
  },
  {
   "cell_type": "code",
   "execution_count": 15,
   "metadata": {},
   "outputs": [
    {
     "name": "stdout",
     "output_type": "stream",
     "text": [
      "79726088\n",
      "79741192\n",
      "False\n",
      "True\n"
     ]
    }
   ],
   "source": [
    "a = [10, 20, 30] \n",
    "b = [10, 20, 30] \n",
    "  \n",
    "# return the location where the variable is stored \n",
    "print(id(a)) \n",
    "  \n",
    "# return the location where the variable is stored \n",
    "print(id(b)) \n",
    "  \n",
    "# returns false if the location is not same \n",
    "print(a is b) \n",
    "\n",
    "# returns true if the locations are all the same\n",
    "print(a[0] is b[0] and a[1] is b[1] and a[2] is b[2])"
   ]
  },
  {
   "cell_type": "markdown",
   "metadata": {},
   "source": [
    "### Call by assignment"
   ]
  },
  {
   "cell_type": "code",
   "execution_count": 16,
   "metadata": {},
   "outputs": [
    {
     "name": "stdout",
     "output_type": "stream",
     "text": [
      "Inside Function: new value\n",
      "Outside Function: old value\n"
     ]
    }
   ],
   "source": [
    "def foo(a): \n",
    "      \n",
    "    # A new vriable is assigned \n",
    "    # for the new string \n",
    "    a = \"new value\"\n",
    "    print(\"Inside Function:\", a) \n",
    "        \n",
    "# Driver's code \n",
    "string = \"old value\"\n",
    "foo(string) \n",
    "  \n",
    "print(\"Outside Function:\", string) "
   ]
  },
  {
   "cell_type": "code",
   "execution_count": 17,
   "metadata": {},
   "outputs": [
    {
     "name": "stdout",
     "output_type": "stream",
     "text": [
      "['Hay', 'how', 'are', 'you', 'doing']\n"
     ]
    }
   ],
   "source": [
    "def foo(a): \n",
    "    a[0] = \"Hay\"\n",
    "      \n",
    "# Driver's code \n",
    "bar = ['Hi', 'how', 'are', 'you', 'doing'] \n",
    "foo(bar) \n",
    "print(bar) "
   ]
  },
  {
   "cell_type": "markdown",
   "metadata": {},
   "source": [
    "# 　"
   ]
  }
 ],
 "metadata": {
  "kernelspec": {
   "display_name": "Python 3",
   "language": "python",
   "name": "python3"
  },
  "language_info": {
   "codemirror_mode": {
    "name": "ipython",
    "version": 3
   },
   "file_extension": ".py",
   "mimetype": "text/x-python",
   "name": "python",
   "nbconvert_exporter": "python",
   "pygments_lexer": "ipython3",
   "version": "3.7.1"
  }
 },
 "nbformat": 4,
 "nbformat_minor": 2
}
